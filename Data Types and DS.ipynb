{
 "cells": [
  {
   "cell_type": "code",
   "execution_count": null,
   "id": "b2f705f5",
   "metadata": {},
   "outputs": [],
   "source": [
    "Data Types:\n",
    "    Type of Data:\n",
    "        1.integer\n",
    "        2.float\n",
    "        3.str\n",
    "        4.None\n",
    "        5.bool\n",
    "        6.complex        "
   ]
  },
  {
   "cell_type": "code",
   "execution_count": 5,
   "id": "c23d3677",
   "metadata": {},
   "outputs": [],
   "source": [
    "a = 100"
   ]
  },
  {
   "cell_type": "code",
   "execution_count": 6,
   "id": "e8b75547",
   "metadata": {},
   "outputs": [
    {
     "data": {
      "text/plain": [
       "int"
      ]
     },
     "execution_count": 6,
     "metadata": {},
     "output_type": "execute_result"
    }
   ],
   "source": [
    "type(a)"
   ]
  },
  {
   "cell_type": "code",
   "execution_count": 7,
   "id": "4d07744d",
   "metadata": {},
   "outputs": [],
   "source": [
    "a = 75.6"
   ]
  },
  {
   "cell_type": "code",
   "execution_count": 8,
   "id": "c2d93adf",
   "metadata": {},
   "outputs": [
    {
     "data": {
      "text/plain": [
       "float"
      ]
     },
     "execution_count": 8,
     "metadata": {},
     "output_type": "execute_result"
    }
   ],
   "source": [
    "type(a)"
   ]
  },
  {
   "cell_type": "code",
   "execution_count": 9,
   "id": "9bce596c",
   "metadata": {},
   "outputs": [],
   "source": [
    "a = 'python'"
   ]
  },
  {
   "cell_type": "code",
   "execution_count": 10,
   "id": "d12417cd",
   "metadata": {},
   "outputs": [
    {
     "data": {
      "text/plain": [
       "str"
      ]
     },
     "execution_count": 10,
     "metadata": {},
     "output_type": "execute_result"
    }
   ],
   "source": [
    "type(a)"
   ]
  },
  {
   "cell_type": "code",
   "execution_count": null,
   "id": "872521bf",
   "metadata": {},
   "outputs": [],
   "source": [
    "integer : complete number\n",
    "float :  incomplete number\n",
    "str :  collection of chars\n",
    "None : empty\n",
    "bool : True/False\n",
    "    \n",
    "complex -->"
   ]
  },
  {
   "cell_type": "code",
   "execution_count": 11,
   "id": "2b887bb6",
   "metadata": {},
   "outputs": [],
   "source": [
    "a = None"
   ]
  },
  {
   "cell_type": "code",
   "execution_count": 12,
   "id": "eeb13223",
   "metadata": {},
   "outputs": [
    {
     "data": {
      "text/plain": [
       "NoneType"
      ]
     },
     "execution_count": 12,
     "metadata": {},
     "output_type": "execute_result"
    }
   ],
   "source": [
    "type(a)"
   ]
  },
  {
   "cell_type": "code",
   "execution_count": 13,
   "id": "d106c0d5",
   "metadata": {},
   "outputs": [],
   "source": [
    "a"
   ]
  },
  {
   "cell_type": "code",
   "execution_count": null,
   "id": "e77c240d",
   "metadata": {},
   "outputs": [],
   "source": [
    "bool : True/False"
   ]
  },
  {
   "cell_type": "code",
   "execution_count": 14,
   "id": "ab1c9fc6",
   "metadata": {},
   "outputs": [],
   "source": [
    "a = True"
   ]
  },
  {
   "cell_type": "code",
   "execution_count": 15,
   "id": "e3e630b4",
   "metadata": {},
   "outputs": [
    {
     "data": {
      "text/plain": [
       "bool"
      ]
     },
     "execution_count": 15,
     "metadata": {},
     "output_type": "execute_result"
    }
   ],
   "source": [
    "type(a)"
   ]
  },
  {
   "cell_type": "code",
   "execution_count": 16,
   "id": "b9436bb4",
   "metadata": {},
   "outputs": [
    {
     "data": {
      "text/plain": [
       "2"
      ]
     },
     "execution_count": 16,
     "metadata": {},
     "output_type": "execute_result"
    }
   ],
   "source": [
    "True+True"
   ]
  },
  {
   "cell_type": "code",
   "execution_count": null,
   "id": "ffe59de5",
   "metadata": {},
   "outputs": [],
   "source": [
    "True --- 1\n",
    "False -- 0"
   ]
  },
  {
   "cell_type": "code",
   "execution_count": 17,
   "id": "85e2c591",
   "metadata": {},
   "outputs": [],
   "source": [
    "a = 10+15j"
   ]
  },
  {
   "cell_type": "code",
   "execution_count": 18,
   "id": "34a386c2",
   "metadata": {},
   "outputs": [
    {
     "data": {
      "text/plain": [
       "complex"
      ]
     },
     "execution_count": 18,
     "metadata": {},
     "output_type": "execute_result"
    }
   ],
   "source": [
    "type(a)"
   ]
  },
  {
   "cell_type": "code",
   "execution_count": null,
   "id": "ee77fa74",
   "metadata": {},
   "outputs": [],
   "source": [
    "Data Structure:\n",
    "    raw data ---> arrange in perticular format/structure"
   ]
  },
  {
   "cell_type": "code",
   "execution_count": null,
   "id": "836e28ca",
   "metadata": {},
   "outputs": [],
   "source": [
    "1.list\n",
    "2.tuple\n",
    "3.set\n",
    "4.dict\n",
    "5.frozenset\n",
    "6.str"
   ]
  },
  {
   "cell_type": "code",
   "execution_count": null,
   "id": "8d7eb5b4",
   "metadata": {},
   "outputs": [],
   "source": [
    "List:\n",
    "    it is collection of data types/elements\n",
    "    similar type of Data --> Homogeneous list\n",
    "    different type --> Hetrogeneous list\n",
    "    it is denoted by -- []\n",
    "    it is mutable type i.e  insert/delete/update\n",
    "    the element of list can be accessed by index number"
   ]
  },
  {
   "cell_type": "code",
   "execution_count": 19,
   "id": "6dcbb270",
   "metadata": {},
   "outputs": [],
   "source": [
    "ages = [32,25,26,38,25,98]"
   ]
  },
  {
   "cell_type": "code",
   "execution_count": 20,
   "id": "67813bab",
   "metadata": {},
   "outputs": [
    {
     "data": {
      "text/plain": [
       "list"
      ]
     },
     "execution_count": 20,
     "metadata": {},
     "output_type": "execute_result"
    }
   ],
   "source": [
    "type(ages)"
   ]
  },
  {
   "cell_type": "code",
   "execution_count": null,
   "id": "55e92754",
   "metadata": {},
   "outputs": [],
   "source": [
    "type(var):it is used to check variable type"
   ]
  },
  {
   "cell_type": "code",
   "execution_count": 21,
   "id": "6d3891e7",
   "metadata": {},
   "outputs": [],
   "source": [
    "ages = [32,25,26,38,25,98]"
   ]
  },
  {
   "cell_type": "code",
   "execution_count": 22,
   "id": "cbca8b13",
   "metadata": {},
   "outputs": [],
   "source": [
    "emp_data = [101,'keshav','patil',75.9,950000,True]"
   ]
  },
  {
   "cell_type": "code",
   "execution_count": 23,
   "id": "4163ff7a",
   "metadata": {},
   "outputs": [],
   "source": [
    "t1 = [45.96,21.3,56.9]"
   ]
  },
  {
   "cell_type": "code",
   "execution_count": 24,
   "id": "d96e3d15",
   "metadata": {},
   "outputs": [
    {
     "data": {
      "text/plain": [
       "[45.96, 21.3, 56.9]"
      ]
     },
     "execution_count": 24,
     "metadata": {},
     "output_type": "execute_result"
    }
   ],
   "source": [
    "t1"
   ]
  },
  {
   "cell_type": "code",
   "execution_count": null,
   "id": "66d2f43d",
   "metadata": {},
   "outputs": [],
   "source": [
    "mutable : it is changable,we can perform insert/delete/update operation\n",
    "    list\n",
    "    set\n",
    "    dict\n",
    "immuatable:we cann perform ,insert,delete,update operation\n",
    "    tuple\n",
    "    str\n",
    "    frozenset"
   ]
  },
  {
   "cell_type": "code",
   "execution_count": 25,
   "id": "4b52ce86",
   "metadata": {},
   "outputs": [
    {
     "data": {
      "text/plain": [
       "[32, 25, 26, 38, 25, 98]"
      ]
     },
     "execution_count": 25,
     "metadata": {},
     "output_type": "execute_result"
    }
   ],
   "source": [
    "ages"
   ]
  },
  {
   "cell_type": "code",
   "execution_count": null,
   "id": "619d7624",
   "metadata": {},
   "outputs": [],
   "source": [
    "Indexing on list:\n",
    "    \n",
    "    1.postive/forward index\n",
    "    start=0,end =len-1\n",
    "    \n",
    "    2.negative/reverse index\n",
    "    start=-1,end=-len"
   ]
  },
  {
   "cell_type": "code",
   "execution_count": 26,
   "id": "ba4ba9f0",
   "metadata": {},
   "outputs": [
    {
     "data": {
      "text/plain": [
       "[32, 25, 26, 38, 25, 98]"
      ]
     },
     "execution_count": 26,
     "metadata": {},
     "output_type": "execute_result"
    }
   ],
   "source": [
    "ages"
   ]
  },
  {
   "cell_type": "code",
   "execution_count": 27,
   "id": "75b80520",
   "metadata": {},
   "outputs": [
    {
     "data": {
      "text/plain": [
       "38"
      ]
     },
     "execution_count": 27,
     "metadata": {},
     "output_type": "execute_result"
    }
   ],
   "source": [
    "ages[3]"
   ]
  },
  {
   "cell_type": "code",
   "execution_count": 28,
   "id": "538598e4",
   "metadata": {},
   "outputs": [
    {
     "data": {
      "text/plain": [
       "38"
      ]
     },
     "execution_count": 28,
     "metadata": {},
     "output_type": "execute_result"
    }
   ],
   "source": [
    "ages[-3]"
   ]
  },
  {
   "cell_type": "code",
   "execution_count": 29,
   "id": "78f2be8d",
   "metadata": {},
   "outputs": [
    {
     "data": {
      "text/plain": [
       "[101, 'keshav', 'patil', 75.9, 950000, True]"
      ]
     },
     "execution_count": 29,
     "metadata": {},
     "output_type": "execute_result"
    }
   ],
   "source": [
    "emp_data"
   ]
  },
  {
   "cell_type": "code",
   "execution_count": 30,
   "id": "1305d47f",
   "metadata": {},
   "outputs": [
    {
     "data": {
      "text/plain": [
       "950000"
      ]
     },
     "execution_count": 30,
     "metadata": {},
     "output_type": "execute_result"
    }
   ],
   "source": [
    "emp_data[-2]"
   ]
  },
  {
   "cell_type": "code",
   "execution_count": 31,
   "id": "95fcddeb",
   "metadata": {},
   "outputs": [
    {
     "data": {
      "text/plain": [
       "950000"
      ]
     },
     "execution_count": 31,
     "metadata": {},
     "output_type": "execute_result"
    }
   ],
   "source": [
    "emp_data[4]"
   ]
  },
  {
   "cell_type": "code",
   "execution_count": null,
   "id": "d23b9475",
   "metadata": {},
   "outputs": [],
   "source": [
    "Operation on list:\n",
    "    insertion:\n",
    "        1.insert\n",
    "        2.append\n",
    "        3.extend"
   ]
  },
  {
   "cell_type": "code",
   "execution_count": 33,
   "id": "b55d638b",
   "metadata": {},
   "outputs": [
    {
     "data": {
      "text/plain": [
       "[32, 25, 26, 38, 25, 98]"
      ]
     },
     "execution_count": 33,
     "metadata": {},
     "output_type": "execute_result"
    }
   ],
   "source": [
    "ages"
   ]
  },
  {
   "cell_type": "code",
   "execution_count": null,
   "id": "af60938d",
   "metadata": {},
   "outputs": [],
   "source": [
    "insert :    \n",
    "    it is used to insert new element into list at given position"
   ]
  },
  {
   "cell_type": "code",
   "execution_count": 34,
   "id": "fa5f3fa7",
   "metadata": {},
   "outputs": [
    {
     "data": {
      "text/plain": [
       "[32, 25, 26, 38, 25, 98]"
      ]
     },
     "execution_count": 34,
     "metadata": {},
     "output_type": "execute_result"
    }
   ],
   "source": [
    "ages"
   ]
  },
  {
   "cell_type": "code",
   "execution_count": null,
   "id": "ef425d44",
   "metadata": {},
   "outputs": [],
   "source": [
    "sytanx:\n",
    "    insert(index,element)"
   ]
  },
  {
   "cell_type": "code",
   "execution_count": 35,
   "id": "5917e9e5",
   "metadata": {},
   "outputs": [],
   "source": [
    "ages.insert(2,10)"
   ]
  },
  {
   "cell_type": "code",
   "execution_count": 36,
   "id": "69c29c73",
   "metadata": {},
   "outputs": [
    {
     "data": {
      "text/plain": [
       "[32, 25, 10, 26, 38, 25, 98]"
      ]
     },
     "execution_count": 36,
     "metadata": {},
     "output_type": "execute_result"
    }
   ],
   "source": [
    "ages"
   ]
  },
  {
   "cell_type": "code",
   "execution_count": 37,
   "id": "64758236",
   "metadata": {},
   "outputs": [],
   "source": [
    "ages.insert(4,500)"
   ]
  },
  {
   "cell_type": "code",
   "execution_count": 38,
   "id": "2f20a730",
   "metadata": {},
   "outputs": [
    {
     "data": {
      "text/plain": [
       "[32, 25, 10, 26, 500, 38, 25, 98]"
      ]
     },
     "execution_count": 38,
     "metadata": {},
     "output_type": "execute_result"
    }
   ],
   "source": [
    "ages"
   ]
  },
  {
   "cell_type": "code",
   "execution_count": null,
   "id": "e6d71bc9",
   "metadata": {},
   "outputs": [],
   "source": [
    "append(element):\n",
    "    insert element at the end"
   ]
  },
  {
   "cell_type": "code",
   "execution_count": 39,
   "id": "a154bfb3",
   "metadata": {},
   "outputs": [],
   "source": [
    "ages.append(100)"
   ]
  },
  {
   "cell_type": "code",
   "execution_count": 40,
   "id": "480930e9",
   "metadata": {},
   "outputs": [
    {
     "data": {
      "text/plain": [
       "[32, 25, 10, 26, 500, 38, 25, 98, 100]"
      ]
     },
     "execution_count": 40,
     "metadata": {},
     "output_type": "execute_result"
    }
   ],
   "source": [
    "ages"
   ]
  },
  {
   "cell_type": "code",
   "execution_count": 41,
   "id": "13285570",
   "metadata": {},
   "outputs": [],
   "source": [
    "ages.append(900)"
   ]
  },
  {
   "cell_type": "code",
   "execution_count": 42,
   "id": "f22f8937",
   "metadata": {},
   "outputs": [
    {
     "data": {
      "text/plain": [
       "[32, 25, 10, 26, 500, 38, 25, 98, 100, 900]"
      ]
     },
     "execution_count": 42,
     "metadata": {},
     "output_type": "execute_result"
    }
   ],
   "source": [
    "ages"
   ]
  },
  {
   "cell_type": "code",
   "execution_count": 43,
   "id": "7ad9a296",
   "metadata": {},
   "outputs": [],
   "source": [
    "ages.append('Python')"
   ]
  },
  {
   "cell_type": "code",
   "execution_count": 44,
   "id": "658eb18c",
   "metadata": {},
   "outputs": [
    {
     "data": {
      "text/plain": [
       "[32, 25, 10, 26, 500, 38, 25, 98, 100, 900, 'Python']"
      ]
     },
     "execution_count": 44,
     "metadata": {},
     "output_type": "execute_result"
    }
   ],
   "source": [
    "ages"
   ]
  },
  {
   "cell_type": "code",
   "execution_count": null,
   "id": "2b9ffe35",
   "metadata": {},
   "outputs": [],
   "source": []
  }
 ],
 "metadata": {
  "kernelspec": {
   "display_name": "Python 3",
   "language": "python",
   "name": "python3"
  },
  "language_info": {
   "codemirror_mode": {
    "name": "ipython",
    "version": 3
   },
   "file_extension": ".py",
   "mimetype": "text/x-python",
   "name": "python",
   "nbconvert_exporter": "python",
   "pygments_lexer": "ipython3",
   "version": "3.8.8"
  }
 },
 "nbformat": 4,
 "nbformat_minor": 5
}
