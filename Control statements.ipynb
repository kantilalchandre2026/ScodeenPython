{
 "cells": [
  {
   "cell_type": "code",
   "execution_count": null,
   "id": "82ff1f2b",
   "metadata": {},
   "outputs": [],
   "source": [
    "Flow control statement:\n",
    "    simple if\n",
    "    if -else\n",
    "    if-else ladder\n",
    "    nested if -else"
   ]
  },
  {
   "cell_type": "code",
   "execution_count": 1,
   "id": "7431ec85",
   "metadata": {},
   "outputs": [
    {
     "name": "stdout",
     "output_type": "stream",
     "text": [
      "hi\n",
      "welcome\n",
      "bye\n"
     ]
    }
   ],
   "source": [
    "print(\"hi\")\n",
    "print(\"welcome\")\n",
    "print(\"bye\")"
   ]
  },
  {
   "cell_type": "code",
   "execution_count": null,
   "id": "bac80b83",
   "metadata": {},
   "outputs": [],
   "source": [
    "simple if\n",
    "\n",
    "it is used on one condition"
   ]
  },
  {
   "cell_type": "code",
   "execution_count": null,
   "id": "04391b99",
   "metadata": {},
   "outputs": [],
   "source": [
    "if condition:\n",
    "    body of code"
   ]
  },
  {
   "cell_type": "code",
   "execution_count": null,
   "id": "1c8f984c",
   "metadata": {},
   "outputs": [],
   "source": [
    "if condition:\n",
    "    statement1\n",
    "    statement2\n",
    "statement3"
   ]
  },
  {
   "cell_type": "code",
   "execution_count": null,
   "id": "99a137d1",
   "metadata": {},
   "outputs": [],
   "source": [
    "if condition: # True\n",
    "    block of code\n",
    "statement3"
   ]
  },
  {
   "cell_type": "code",
   "execution_count": 3,
   "id": "722874e9",
   "metadata": {},
   "outputs": [
    {
     "name": "stdout",
     "output_type": "stream",
     "text": [
      "thanks for checking\n"
     ]
    }
   ],
   "source": [
    "filename = 'test.csv'\n",
    "if filename.endswith('.pdf'):\n",
    "    print(\"file is pdf so processing...\")\n",
    "print(\"thanks for checking\")"
   ]
  },
  {
   "cell_type": "code",
   "execution_count": 5,
   "id": "8c52e2e5",
   "metadata": {},
   "outputs": [
    {
     "name": "stdout",
     "output_type": "stream",
     "text": [
      "Enter the age:78\n",
      "Please take boster dose\n",
      "thanks\n"
     ]
    }
   ],
   "source": [
    "age = int(input(\"Enter the age:\"))\n",
    "if age>75:\n",
    "    print(\"Please take booster dose\")\n",
    "print(\"thanks\")"
   ]
  },
  {
   "cell_type": "code",
   "execution_count": null,
   "id": "5afb26f9",
   "metadata": {},
   "outputs": [],
   "source": [
    "2.two condition which is opposite in nature\n",
    "yes --> no\n",
    "no --> yes"
   ]
  },
  {
   "cell_type": "code",
   "execution_count": 10,
   "id": "61f0a67a",
   "metadata": {},
   "outputs": [
    {
     "name": "stdout",
     "output_type": "stream",
     "text": [
      "Enter the number:10\n",
      "Given 10 number is even\n"
     ]
    }
   ],
   "source": [
    "num = int(input(\"Enter the number:\"))\n",
    "\n",
    "if num%2==0:\n",
    "    print(\"Given {} number is even\".format(num))\n",
    "else:\n",
    "    print(f\"Given {num} number is odd\")"
   ]
  },
  {
   "cell_type": "code",
   "execution_count": 11,
   "id": "3d5c7a82",
   "metadata": {},
   "outputs": [],
   "source": [
    "valid_products = ['copper','iron','silvar']"
   ]
  },
  {
   "cell_type": "code",
   "execution_count": 14,
   "id": "c901c6c6",
   "metadata": {},
   "outputs": [
    {
     "name": "stdout",
     "output_type": "stream",
     "text": [
      "Enter the product name:copper\n",
      "Product copper is valid\n"
     ]
    }
   ],
   "source": [
    "user = input(\"Enter the product name:\")\n",
    "if user in valid_products:\n",
    "    print(\"Product {} is valid\".format(user))\n",
    "else:\n",
    "    print(\"Product {} is invalid\".format(user))"
   ]
  },
  {
   "cell_type": "code",
   "execution_count": null,
   "id": "cdfc28f2",
   "metadata": {},
   "outputs": [],
   "source": [
    "user and password --> Assigment"
   ]
  },
  {
   "cell_type": "code",
   "execution_count": null,
   "id": "5260d63b",
   "metadata": {},
   "outputs": [],
   "source": []
  }
 ],
 "metadata": {
  "kernelspec": {
   "display_name": "Python 3",
   "language": "python",
   "name": "python3"
  },
  "language_info": {
   "codemirror_mode": {
    "name": "ipython",
    "version": 3
   },
   "file_extension": ".py",
   "mimetype": "text/x-python",
   "name": "python",
   "nbconvert_exporter": "python",
   "pygments_lexer": "ipython3",
   "version": "3.8.8"
  }
 },
 "nbformat": 4,
 "nbformat_minor": 5
}
