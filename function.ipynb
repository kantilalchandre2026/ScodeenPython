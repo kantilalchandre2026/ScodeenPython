{
 "cells": [
  {
   "cell_type": "code",
   "execution_count": null,
   "id": "b9169082",
   "metadata": {},
   "outputs": [],
   "source": [
    "Problem:\n",
    "    1.duplication of code --> space--> time \n",
    "    2.poor code management\n",
    "    \n",
    "function:\n",
    "    block of code which perform given/coherent task"
   ]
  },
  {
   "cell_type": "code",
   "execution_count": null,
   "id": "4f12aa2d",
   "metadata": {},
   "outputs": [],
   "source": [
    "num1 = int(input(\"Enter the number:\"))\n",
    "num2 = int(input(\"Enter the second number:\"))\n",
    "result = num1+num2\n",
    "asdfgfdagdfahgdfagfdag\n",
    "fdag\n",
    "fadg\n",
    "afdg\n",
    "asd\n",
    "gads\n",
    "g\n",
    "asdfg\n",
    "num1 = int(input(\"Enter the number:\"))\n",
    "num2 = int(input(\"Enter the second number:\"))\n",
    "result = num1+num2\n",
    "asdgfadfgfadghfadg\n",
    "afdg\n",
    "afdg\n",
    "fadsg\n",
    "dfasg\n",
    "num1 = int(input(\"Enter the number:\"))\n",
    "num2 = int(input(\"Enter the second number:\"))\n",
    "result = num1+num2"
   ]
  },
  {
   "cell_type": "code",
   "execution_count": null,
   "id": "5b6b1ed3",
   "metadata": {},
   "outputs": [],
   "source": [
    "#how to define function"
   ]
  },
  {
   "cell_type": "code",
   "execution_count": null,
   "id": "c63046f2",
   "metadata": {},
   "outputs": [],
   "source": [
    "def function_name(arguments/parameters): #formal arguments\n",
    "    block of code\n",
    "    return value"
   ]
  },
  {
   "cell_type": "code",
   "execution_count": null,
   "id": "608f90af",
   "metadata": {},
   "outputs": [],
   "source": [
    "function_name(parameters) #actual arg/parameters"
   ]
  },
  {
   "cell_type": "code",
   "execution_count": 1,
   "id": "e0d3210d",
   "metadata": {},
   "outputs": [],
   "source": [
    "def add():\n",
    "    num1 = int(input(\"Enter the number:\"))\n",
    "    num2 = int(input(\"Enter the second number:\"))\n",
    "    result = num1+num2\n",
    "    print(result)"
   ]
  },
  {
   "cell_type": "code",
   "execution_count": 2,
   "id": "b1e9a3dd",
   "metadata": {},
   "outputs": [
    {
     "name": "stdout",
     "output_type": "stream",
     "text": [
      "Enter the number:45\n",
      "Enter the second number:96\n",
      "141\n"
     ]
    }
   ],
   "source": [
    "add() #call"
   ]
  },
  {
   "cell_type": "code",
   "execution_count": 4,
   "id": "2b52baae",
   "metadata": {},
   "outputs": [
    {
     "name": "stdout",
     "output_type": "stream",
     "text": [
      "Enter the number:100\n",
      "Enter the second number:200\n",
      "300\n"
     ]
    }
   ],
   "source": [
    "add()"
   ]
  },
  {
   "cell_type": "code",
   "execution_count": 5,
   "id": "6d35d2dd",
   "metadata": {},
   "outputs": [
    {
     "name": "stdout",
     "output_type": "stream",
     "text": [
      "Enter the number:343\n",
      "Enter the second number:343\n",
      "686\n"
     ]
    }
   ],
   "source": [
    "add()"
   ]
  },
  {
   "cell_type": "code",
   "execution_count": null,
   "id": "f045eae2",
   "metadata": {},
   "outputs": [],
   "source": [
    "def add():\n",
    "    num1 = int(input(\"Enter the number:\"))\n",
    "    num2 = int(input(\"Enter the second number:\"))\n",
    "    result = num1+num2\n",
    "    print(result)"
   ]
  },
  {
   "cell_type": "code",
   "execution_count": 17,
   "id": "94737fea",
   "metadata": {},
   "outputs": [],
   "source": [
    "def add(x,y):\n",
    "    z  =x+y\n",
    "    print(\"Addition:\",z)"
   ]
  },
  {
   "cell_type": "code",
   "execution_count": 7,
   "id": "c8c9da4e",
   "metadata": {},
   "outputs": [
    {
     "name": "stdout",
     "output_type": "stream",
     "text": [
      "Addition: 70\n"
     ]
    }
   ],
   "source": [
    "add(10,60)"
   ]
  },
  {
   "cell_type": "code",
   "execution_count": 8,
   "id": "4714324d",
   "metadata": {},
   "outputs": [
    {
     "name": "stdout",
     "output_type": "stream",
     "text": [
      "Addition: 600\n"
     ]
    }
   ],
   "source": [
    "add(100,500)"
   ]
  },
  {
   "cell_type": "code",
   "execution_count": 10,
   "id": "f05bb1fe",
   "metadata": {},
   "outputs": [
    {
     "name": "stdout",
     "output_type": "stream",
     "text": [
      "Addition: 3912\n"
     ]
    }
   ],
   "source": [
    "add(434,3478)"
   ]
  },
  {
   "cell_type": "code",
   "execution_count": 13,
   "id": "854abff5",
   "metadata": {},
   "outputs": [],
   "source": [
    "def add(*a):\n",
    "    total = 0\n",
    "    for i in a:\n",
    "        total = total+i\n",
    "    print(\"Addition:\",total)"
   ]
  },
  {
   "cell_type": "code",
   "execution_count": 16,
   "id": "e7a7b5ee",
   "metadata": {},
   "outputs": [
    {
     "name": "stdout",
     "output_type": "stream",
     "text": [
      "Addition: 100\n"
     ]
    }
   ],
   "source": [
    "add(100)"
   ]
  },
  {
   "cell_type": "code",
   "execution_count": null,
   "id": "bdbf8fd5",
   "metadata": {},
   "outputs": [],
   "source": []
  }
 ],
 "metadata": {
  "kernelspec": {
   "display_name": "Python 3",
   "language": "python",
   "name": "python3"
  },
  "language_info": {
   "codemirror_mode": {
    "name": "ipython",
    "version": 3
   },
   "file_extension": ".py",
   "mimetype": "text/x-python",
   "name": "python",
   "nbconvert_exporter": "python",
   "pygments_lexer": "ipython3",
   "version": "3.8.8"
  }
 },
 "nbformat": 4,
 "nbformat_minor": 5
}
