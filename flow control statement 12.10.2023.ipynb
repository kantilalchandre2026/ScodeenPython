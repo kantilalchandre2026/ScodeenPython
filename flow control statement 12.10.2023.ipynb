{
 "cells": [
  {
   "cell_type": "code",
   "execution_count": null,
   "id": "8366d958",
   "metadata": {},
   "outputs": [],
   "source": [
    "if-else ladder \n",
    "\n",
    "when we have more than two condition"
   ]
  },
  {
   "cell_type": "code",
   "execution_count": null,
   "id": "7df8e16f",
   "metadata": {},
   "outputs": [],
   "source": [
    "if condition1:\n",
    "    block 1\n",
    "elif condition 2:\n",
    "    block 2\n",
    "elif condition 3:\n",
    "    block 3\n",
    "elif condition 4:\n",
    "    block 4\n",
    "      |\n",
    "      |\n",
    "    \n",
    "elif condition n:\n",
    "    block n\n",
    "else:\n",
    "    default block\n",
    "\n",
    "    \n",
    "next code "
   ]
  },
  {
   "cell_type": "code",
   "execution_count": 4,
   "id": "fff15d2e",
   "metadata": {},
   "outputs": [
    {
     "name": "stdout",
     "output_type": "stream",
     "text": [
      "Enter the filename:tsefsdfsdfd\n",
      "invalid file\n"
     ]
    }
   ],
   "source": [
    "filename = input(\"Enter the filename:\")\n",
    "\n",
    "if filename.endswith('.csv'):\n",
    "    print(\"csv file processing..\")\n",
    "    print(\"processing done\")\n",
    "elif filename.endswith('.pdf'):\n",
    "    print(\"pdf file processing..\")\n",
    "    print(\"Processig done.\")\n",
    "elif filename.endswith('.xlsx'):\n",
    "    print(\"excel file processing..\")\n",
    "    print(\"Processig done.\")\n",
    "elif filename.endswith('.log'):\n",
    "    print(\"log file processing..\")\n",
    "    print(\"Processig done.\")\n",
    "else:\n",
    "    print(\"invalid file\")"
   ]
  },
  {
   "cell_type": "code",
   "execution_count": null,
   "id": "06d9b26b",
   "metadata": {},
   "outputs": [],
   "source": [
    "take -- per\n",
    "return Grade\n",
    "\n",
    "> 75 - O\n",
    "66 and 75 - A\n",
    "55 and 65 - B\n",
    "40 and 54 - C\n",
    "<40       - fail\n",
    "invalid per"
   ]
  },
  {
   "cell_type": "code",
   "execution_count": null,
   "id": "bd93faf9",
   "metadata": {},
   "outputs": [],
   "source": [
    "4.nested if-else\n",
    "\n",
    "when one condition depends on another condition"
   ]
  },
  {
   "cell_type": "code",
   "execution_count": null,
   "id": "b37721a9",
   "metadata": {},
   "outputs": [],
   "source": [
    "if condition:\n",
    "    if condition:\n",
    "        block of code\n",
    "    else:\n",
    "        block of code\n",
    "        \n",
    "else:\n",
    "    if codition:\n",
    "        block of code\n",
    "    else:\n",
    "        block of code"
   ]
  },
  {
   "cell_type": "code",
   "execution_count": null,
   "id": "3bdf8744",
   "metadata": {},
   "outputs": [],
   "source": [
    "bonus: cal\n",
    "    \n",
    "emp -- > M --> town noof project \n",
    " \n",
    "                     2> --> urban  rural \n",
    "\n",
    "                        15   10\n",
    "       F                 25   15\n",
    "        \n"
   ]
  },
  {
   "cell_type": "code",
   "execution_count": 28,
   "id": "90a84a90",
   "metadata": {},
   "outputs": [
    {
     "name": "stdout",
     "output_type": "stream",
     "text": [
      "Enter the country:India\n",
      "Enter the state:Goa\n",
      "Enter the city:asdfsadfsadf\n",
      "invalid city\n"
     ]
    }
   ],
   "source": [
    "country =  input(\"Enter the country:\")\n",
    "state = input(\"Enter the state:\")\n",
    "city = input(\"Enter the city:\")\n",
    "\n",
    "if country=='India':\n",
    "    if state=='MH':\n",
    "        if city=='Pune':\n",
    "            print(\"pune pincode:\",411046)\n",
    "        elif city=='Kolhapur':\n",
    "            print(\"Kolhapur:\",461646)\n",
    "        elif city=='Jalna':\n",
    "            print(\"Jalna:\",431203)\n",
    "        else:\n",
    "            print(\"invalid city\")\n",
    "    elif state=='Goa':\n",
    "        if city=='Panji':\n",
    "            print(\"Panji:\",5565456)\n",
    "        elif city=='mapusa':\n",
    "            print(\"Mapsa:\",151554)\n",
    "        else:\n",
    "            print(\"invalid city\")\n",
    "    else:\n",
    "        print(\"invalid state\")\n",
    "elif country=='US':\n",
    "    pass\n",
    "elif country=='China':\n",
    "    pass\n",
    "else:\n",
    "    print(\"invalid country\")"
   ]
  },
  {
   "cell_type": "code",
   "execution_count": null,
   "id": "4d7a8700",
   "metadata": {},
   "outputs": [],
   "source": [
    "file -- > filename copper --> month current month\n",
    "\n",
    "CopperDailyProductionDataOct-2023.csv\n",
    "CopperDailyProductionDataSept-2023.csv\n",
    "CopperDailyProductionDataFeb-2023.csv\n",
    "CopperDailyProductionDataMarch-2023.csv\n",
    "CopperDailyProductionDataOApril-2023.csv\n",
    "\n",
    "IronDailyProductionDataOApril-2023.csv\n",
    "IronDailyProductionDataOct-2023.csv\n",
    "IronDailyProductionDataSept-2023.csv\n",
    "IronDailyProductionDataFeb-2023.csv\n",
    "IronDailyProductionDataMarch-2023.csv\n",
    "IronDailyProductionDataOApril-2023.csv"
   ]
  }
 ],
 "metadata": {
  "kernelspec": {
   "display_name": "Python 3",
   "language": "python",
   "name": "python3"
  },
  "language_info": {
   "codemirror_mode": {
    "name": "ipython",
    "version": 3
   },
   "file_extension": ".py",
   "mimetype": "text/x-python",
   "name": "python",
   "nbconvert_exporter": "python",
   "pygments_lexer": "ipython3",
   "version": "3.8.8"
  }
 },
 "nbformat": 4,
 "nbformat_minor": 5
}
