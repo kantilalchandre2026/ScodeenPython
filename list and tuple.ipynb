{
 "cells": [
  {
   "cell_type": "code",
   "execution_count": 1,
   "id": "a45262f5",
   "metadata": {},
   "outputs": [],
   "source": [
    "py_list = [34,86,24,76,'python','ml',23,76,'java']"
   ]
  },
  {
   "cell_type": "code",
   "execution_count": 2,
   "id": "77402ac8",
   "metadata": {},
   "outputs": [
    {
     "data": {
      "text/plain": [
       "[34, 86, 24, 76, 'python', 'ml', 23, 76, 'java']"
      ]
     },
     "execution_count": 2,
     "metadata": {},
     "output_type": "execute_result"
    }
   ],
   "source": [
    "py_list"
   ]
  },
  {
   "cell_type": "code",
   "execution_count": 3,
   "id": "f02b1f4d",
   "metadata": {},
   "outputs": [],
   "source": [
    "py_tuple = (23,87,34,8976,'python','testing','hadoop')"
   ]
  },
  {
   "cell_type": "code",
   "execution_count": 4,
   "id": "eefad9fd",
   "metadata": {},
   "outputs": [
    {
     "data": {
      "text/plain": [
       "(23, 87, 34, 8976, 'python', 'testing', 'hadoop')"
      ]
     },
     "execution_count": 4,
     "metadata": {},
     "output_type": "execute_result"
    }
   ],
   "source": [
    "py_tuple"
   ]
  },
  {
   "cell_type": "code",
   "execution_count": null,
   "id": "ce35edff",
   "metadata": {},
   "outputs": [],
   "source": [
    "Interview Disscussion:\n",
    "-----------------------\n",
    "\n",
    "1.can we define list inside tuple or vice versa?\n",
    "Yes,but property of DS remain same.\n",
    "\n",
    "2.can we insert new element into tuple?\n",
    "No,but by using typecasting we can insert."
   ]
  },
  {
   "cell_type": "code",
   "execution_count": null,
   "id": "b70f1c3c",
   "metadata": {},
   "outputs": [],
   "source": []
  },
  {
   "cell_type": "code",
   "execution_count": 5,
   "id": "9744fa1f",
   "metadata": {},
   "outputs": [],
   "source": [
    "py_list = [23,654,23,5,(1,2,3,4),100,200,400]"
   ]
  },
  {
   "cell_type": "code",
   "execution_count": 6,
   "id": "bc3f56c9",
   "metadata": {},
   "outputs": [
    {
     "data": {
      "text/plain": [
       "[23, 654, 23, 5, (1, 2, 3, 4), 100, 200, 400]"
      ]
     },
     "execution_count": 6,
     "metadata": {},
     "output_type": "execute_result"
    }
   ],
   "source": [
    "py_list"
   ]
  },
  {
   "cell_type": "code",
   "execution_count": 8,
   "id": "cf8a6d03",
   "metadata": {},
   "outputs": [
    {
     "ename": "AttributeError",
     "evalue": "'tuple' object has no attribute 'insert'",
     "output_type": "error",
     "traceback": [
      "\u001b[1;31m---------------------------------------------------------------------------\u001b[0m",
      "\u001b[1;31mAttributeError\u001b[0m                            Traceback (most recent call last)",
      "\u001b[1;32m<ipython-input-8-3990320bc7e3>\u001b[0m in \u001b[0;36m<module>\u001b[1;34m\u001b[0m\n\u001b[1;32m----> 1\u001b[1;33m \u001b[0mpy_list\u001b[0m\u001b[1;33m[\u001b[0m\u001b[1;36m4\u001b[0m\u001b[1;33m]\u001b[0m\u001b[1;33m.\u001b[0m\u001b[0minsert\u001b[0m\u001b[1;33m(\u001b[0m\u001b[1;36m2\u001b[0m\u001b[1;33m,\u001b[0m\u001b[1;36m100\u001b[0m\u001b[1;33m)\u001b[0m\u001b[1;33m\u001b[0m\u001b[1;33m\u001b[0m\u001b[0m\n\u001b[0m",
      "\u001b[1;31mAttributeError\u001b[0m: 'tuple' object has no attribute 'insert'"
     ]
    }
   ],
   "source": [
    "py_list[4].insert(2,100)"
   ]
  },
  {
   "cell_type": "code",
   "execution_count": 9,
   "id": "8f8022b2",
   "metadata": {},
   "outputs": [],
   "source": [
    "p = (21,4,21,[430,65,234,],434,75,34,75,34)"
   ]
  },
  {
   "cell_type": "code",
   "execution_count": 11,
   "id": "aa6cca4e",
   "metadata": {},
   "outputs": [],
   "source": [
    "p[3].append(500)"
   ]
  },
  {
   "cell_type": "code",
   "execution_count": 12,
   "id": "f183865f",
   "metadata": {},
   "outputs": [
    {
     "data": {
      "text/plain": [
       "(21, 4, 21, [430, 65, 234, 500], 434, 75, 34, 75, 34)"
      ]
     },
     "execution_count": 12,
     "metadata": {},
     "output_type": "execute_result"
    }
   ],
   "source": [
    "p"
   ]
  },
  {
   "cell_type": "code",
   "execution_count": null,
   "id": "3d6b6582",
   "metadata": {},
   "outputs": [],
   "source": []
  }
 ],
 "metadata": {
  "kernelspec": {
   "display_name": "Python 3",
   "language": "python",
   "name": "python3"
  },
  "language_info": {
   "codemirror_mode": {
    "name": "ipython",
    "version": 3
   },
   "file_extension": ".py",
   "mimetype": "text/x-python",
   "name": "python",
   "nbconvert_exporter": "python",
   "pygments_lexer": "ipython3",
   "version": "3.8.8"
  }
 },
 "nbformat": 4,
 "nbformat_minor": 5
}
